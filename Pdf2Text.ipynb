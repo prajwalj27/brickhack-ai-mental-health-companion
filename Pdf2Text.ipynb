{
 "cells": [
  {
   "cell_type": "code",
   "execution_count": null,
   "id": "initial_id",
   "metadata": {
    "collapsed": true
   },
   "outputs": [],
   "source": [
    ""
   ]
  },
  {
   "metadata": {
    "ExecuteTime": {
     "end_time": "2025-02-23T04:49:37.002907Z",
     "start_time": "2025-02-23T04:49:35.725693Z"
    }
   },
   "cell_type": "code",
   "source": [
    "import PyPDF2\n",
    "\n",
    "# Path to the uploaded PDF file\n",
    "pdf_path = \"brodley-transcripts-of-carl-rogers-therapy-sessions.pdf\"\n",
    "\n",
    "# Extract text from the PDF\n",
    "extracted_text = []\n",
    "with open(pdf_path, \"rb\") as file:\n",
    "    reader = PyPDF2.PdfReader(file)\n",
    "    for page in reader.pages:\n",
    "        text = page.extract_text()\n",
    "        if text:\n",
    "            extracted_text.append(text)\n",
    "\n",
    "# Combine extracted text into a single string\n",
    "full_text = \"\\n\\n\".join(extracted_text)\n",
    "\n",
    "# Save extracted text to a file for easier access\n",
    "text_file_path = \"carl_rogers_transcripts.txt\"\n",
    "with open(text_file_path, \"w\", encoding=\"utf-8\") as text_file:\n",
    "    text_file.write(full_text)"
   ],
   "id": "f8f9dd87711c841f",
   "outputs": [
    {
     "data": {
      "text/plain": [
       "'Transcripts of Carl Rogers\\' Therapy Sessions\\nEdited by Barbara T. Brodley and Germain Lietaer\\nVolume 12\\nYearPage  \\nGloria Filmed Interview 19652\\n     \\nSylvia 4th Interview (Filmed) 197521\\n   Commentary interspersed throughout\\nSylvia 5th Interview (Filmed) 197539\\n   Commentary interspersed throughout\\nKathy Filmed Interview 197553\\n  Commentary 67\\nDione 1st Filmed Interview 197768\\n  Commentary interspersed throughout \\nDione 2nd Filmed Interview 1977197785\\n  Final Comments 109\\nThese transcripts are available for purposes of research, study and teaching. They \\nmay not be sold. \\nThroughout these interviews the responses of the therapist (T) (Rogers), and the \\nclient (C) are numbered for easy reference\\nRogers’ Transcripts, Volume 12, Gloria, Introduction, page 1\\n\\nThis transcript is available for purposes of research, study and teaching. It may \\nnot be sold. \\nThroughout this interview the responses of the therapist (T) (Rogers), and the \\nclient (C) are numbered for easy reference. \\n[Source: Shostrom, E. L. (1965). Three approaches to psychotherapy  (Part I)[Film]. Orange,  \\nCA: Psychological Films.]      \\nGLORIA\\nDR. CARL ROGERS PART I -- DESCRIPTION OF SYSTEM\\n[Before the Interview]\\n\"From my own years of therapeutic experience, I have come to feel that if I can \\ncreate the proper climate, the proper, relationship, the proper conditions, a process of \\ntherapeutic movement will almost inevitably occur in my client. You may ask, \\'What is \\nthis climate? What are these conditions? Will they exist in the interview with the woman \\nI am about to talk with, whom I have never seen before?\\' Let me try to describe very \\nbriefly what these conditions are as I see them.\\nFirst of all, one question is, can I be real in the relationship? This has come to \\nhave an increasing amount of importance to me over the years. I feel that genuineness is \\nanother way of describing the quality I would like to have. I like the term \\'congruent\\', by \\nwhich. I mean that what I am experiencing inside is prese'"
      ]
     },
     "execution_count": 1,
     "metadata": {},
     "output_type": "execute_result"
    }
   ],
   "execution_count": 1
  }
 ],
 "metadata": {
  "kernelspec": {
   "display_name": "Python 3",
   "language": "python",
   "name": "python3"
  },
  "language_info": {
   "codemirror_mode": {
    "name": "ipython",
    "version": 2
   },
   "file_extension": ".py",
   "mimetype": "text/x-python",
   "name": "python",
   "nbconvert_exporter": "python",
   "pygments_lexer": "ipython2",
   "version": "2.7.6"
  }
 },
 "nbformat": 4,
 "nbformat_minor": 5
}
